{
 "cells": [
  {
   "cell_type": "code",
   "execution_count": 4,
   "id": "8054bee8-472b-4b44-82bf-8c8effd0ae15",
   "metadata": {},
   "outputs": [
    {
     "name": "stdout",
     "output_type": "stream",
     "text": [
      "The autoreload extension is already loaded. To reload it, use:\n",
      "  %reload_ext autoreload\n"
     ]
    }
   ],
   "source": [
    "%load_ext autoreload\n",
    "%autoreload 2"
   ]
  },
  {
   "cell_type": "code",
   "execution_count": 64,
   "id": "ef68285d-5783-42b8-ac80-c966c286b2d6",
   "metadata": {},
   "outputs": [],
   "source": [
    "import torch\n",
    "import torch.nn as nn\n",
    "import numpy as np"
   ]
  },
  {
   "cell_type": "markdown",
   "id": "81950dd5-6161-4f16-8aca-164e8b553144",
   "metadata": {},
   "source": [
    "#### Generate some data\n",
    "\n",
    "byte-arrays - N_BYTES bytes"
   ]
  },
  {
   "cell_type": "code",
   "execution_count": 24,
   "id": "5c2072e4-b88a-4f7e-8918-c6a1b1ae0ff2",
   "metadata": {},
   "outputs": [],
   "source": [
    "N_BYTES = 10\n",
    "N_BITS = 8*N_BYTES \n",
    "\n",
    "N_SAMPLES = 100"
   ]
  },
  {
   "cell_type": "code",
   "execution_count": 25,
   "id": "47bcac8d-2457-4c46-b42f-3a3a4e619f7e",
   "metadata": {},
   "outputs": [],
   "source": [
    "X = np.random.randint(low=0, high=2, size=(N_SAMPLES, N_BITS))"
   ]
  },
  {
   "cell_type": "code",
   "execution_count": 37,
   "id": "d342e1d9-4b42-47ab-8382-522c5c7e4077",
   "metadata": {},
   "outputs": [],
   "source": [
    "y = X.sum(axis=1)"
   ]
  },
  {
   "cell_type": "code",
   "execution_count": 40,
   "id": "36884523-995c-4e9d-9d37-b71614f233bc",
   "metadata": {},
   "outputs": [
    {
     "data": {
      "text/plain": [
       "array([34, 43, 32, 43, 39, 43, 43, 37, 41, 38, 39, 41, 37, 45, 41, 42, 41,\n",
       "       33, 36, 37, 38, 43, 39, 49, 44, 47, 43, 43, 35, 45, 49, 30, 38, 43,\n",
       "       48, 34, 37, 37, 49, 42, 42, 37, 43, 39, 44, 44, 34, 35, 45, 34, 39,\n",
       "       43, 47, 39, 42, 33, 45, 41, 33, 36, 36, 43, 44, 44, 38, 45, 48, 45,\n",
       "       39, 46, 38, 39, 46, 43, 40, 32, 40, 33, 36, 40, 38, 34, 38, 35, 40,\n",
       "       41, 38, 32, 38, 42, 40, 35, 37, 43, 41, 45, 40, 34, 41, 42])"
      ]
     },
     "execution_count": 40,
     "metadata": {},
     "output_type": "execute_result"
    }
   ],
   "source": [
    "y"
   ]
  },
  {
   "cell_type": "code",
   "execution_count": 33,
   "id": "bcdb1d57-c1b4-415c-9f9d-7d74aa51adc6",
   "metadata": {},
   "outputs": [],
   "source": [
    "ARG1_LOC = 0 #byte loc\n",
    "ARG2_LOC = 1 #byte loc\n",
    "#VAL_LOC = 4 #byte loc\n",
    "\n",
    "assert ARG1_LOC < N_BYTES and ARG2_LOC < N_BYTES and VAL_LOC < N_BYTES\n",
    "\n"
   ]
  },
  {
   "cell_type": "code",
   "execution_count": 34,
   "id": "0cd4cdc4-65a2-4668-9eaf-f316a04d6e88",
   "metadata": {},
   "outputs": [],
   "source": [
    "#TODO - do the addition\n",
    "\n",
    "#use np"
   ]
  },
  {
   "cell_type": "markdown",
   "id": "4c2a586c-b64f-41cc-9090-6b3e9b594d6a",
   "metadata": {},
   "source": [
    "### Self-attention"
   ]
  },
  {
   "cell_type": "markdown",
   "id": "bc58f9cd-2ad1-4ff7-aa5e-f9d672e01b48",
   "metadata": {},
   "source": [
    "1. convert bit vectors to byte vectors\n",
    "2. map each unique byte value -> embedding vector (untrained)\n",
    "3. computing keys, values and queries"
   ]
  },
  {
   "cell_type": "code",
   "execution_count": 44,
   "id": "1965b05b-7ddb-4a39-8c03-174e58b4c493",
   "metadata": {},
   "outputs": [
    {
     "data": {
      "text/plain": [
       "array([1, 0, 1, 0, 0, 1, 1, 0, 0, 0, 1, 1, 0, 1, 0, 0, 1, 0, 0, 1, 0, 1,\n",
       "       1, 1, 0, 0, 0, 1, 1, 1, 0, 1, 1, 0, 0, 1, 0, 0, 1, 0, 0, 1, 0, 1,\n",
       "       1, 1, 1, 0, 1, 0, 0, 0, 0, 0, 1, 0, 0, 0, 0, 1, 1, 0, 1, 0, 1, 1,\n",
       "       0, 0, 0, 0, 1, 0, 1, 0, 0, 0, 1, 0, 0, 0])"
      ]
     },
     "execution_count": 44,
     "metadata": {},
     "output_type": "execute_result"
    }
   ],
   "source": [
    "r = X[0]\n",
    "r"
   ]
  },
  {
   "cell_type": "markdown",
   "id": "04d7bc83-09a3-437b-b0f5-41e2b0d775b7",
   "metadata": {},
   "source": [
    "#### Step 1"
   ]
  },
  {
   "cell_type": "code",
   "execution_count": 88,
   "id": "7cd8462a-217f-4b5f-baa9-f8c6c0331dd6",
   "metadata": {},
   "outputs": [
    {
     "name": "stdout",
     "output_type": "stream",
     "text": [
      "[1 0 1 0 0 1 1 0 0 0 1 1 0 1 0 0 1 0 0 1 0 1 1 1 0 0 0 1 1 1 0 1 1 0 0 1 0\n",
      " 0 1 0 0 1 0 1 1 1 1 0 1 0 0 0 0 0 1 0 0 0 0 1 1 0 1 0 1 1 0 0 0 0 1 0 1 0\n",
      " 0 0 1 0 0 0]\n"
     ]
    },
    {
     "data": {
      "text/plain": [
       "tensor([166,  52, 151,  29, 146,  94, 130,  26, 194, 136])"
      ]
     },
     "execution_count": 88,
     "metadata": {},
     "output_type": "execute_result"
    }
   ],
   "source": [
    "#use numpy for this\n",
    "print(r)\n",
    "r_byte = []\n",
    "for i in range(0, len(r), 8):\n",
    "    r_byte.append(int(\"\".join([str(x) for x in r[i:i+8]]), base=2))\n",
    "\n",
    "r_byte = torch.from_numpy(np.array(r_byte))\n",
    "r_byte"
   ]
  },
  {
   "cell_type": "markdown",
   "id": "49255123-14b8-4f16-8741-6b9ef3bcbc59",
   "metadata": {},
   "source": [
    "#### Step 2"
   ]
  },
  {
   "cell_type": "code",
   "execution_count": 102,
   "id": "2dae38d6-0066-4709-b242-55e8acb9f935",
   "metadata": {},
   "outputs": [],
   "source": [
    "EMB_DIM = 16"
   ]
  },
  {
   "cell_type": "code",
   "execution_count": 103,
   "id": "20415e4e-4c1f-4a76-85cf-91bdfa4e1a6f",
   "metadata": {},
   "outputs": [],
   "source": [
    "emb = nn.Embedding(num_embeddings=256, embedding_dim=EMB_DIM)\n",
    "pos_enc = nn.Embedding(num_embeddings=N_BYTES, embedding_dim=EMB_DIM)"
   ]
  },
  {
   "cell_type": "markdown",
   "id": "7a7b1834-17ba-4904-a898-535cf83ec638",
   "metadata": {},
   "source": [
    "exercise: plot histogram of values across all embeddings (256*16 numbers)"
   ]
  },
  {
   "cell_type": "code",
   "execution_count": 90,
   "id": "33ad5034-5ec5-46ea-b4bd-9f821e92dc5a",
   "metadata": {},
   "outputs": [],
   "source": [
    "r_byte = r_byte.unsqueeze(0)"
   ]
  },
  {
   "cell_type": "code",
   "execution_count": 91,
   "id": "de90c5f1-690d-44cd-841e-db399d81d512",
   "metadata": {},
   "outputs": [
    {
     "data": {
      "text/plain": [
       "torch.Size([1, 10])"
      ]
     },
     "execution_count": 91,
     "metadata": {},
     "output_type": "execute_result"
    }
   ],
   "source": [
    "r_byte.shape"
   ]
  },
  {
   "cell_type": "code",
   "execution_count": 92,
   "id": "b2f447b1-9818-4568-8506-eb59bba37674",
   "metadata": {},
   "outputs": [
    {
     "data": {
      "text/plain": [
       "torch.Size([1, 10, 16])"
      ]
     },
     "execution_count": 92,
     "metadata": {},
     "output_type": "execute_result"
    }
   ],
   "source": [
    "emb(r_byte).shape"
   ]
  },
  {
   "cell_type": "code",
   "execution_count": 100,
   "id": "51d00263-f9f5-4e37-88a2-2de43c0644ea",
   "metadata": {},
   "outputs": [],
   "source": [
    "# positional encoding\n",
    "#emb(r_byte) + pos_enc(torch.arange(10)).unsqueeze(0)"
   ]
  },
  {
   "cell_type": "markdown",
   "id": "958e8a8a-2cb8-45c5-8fcb-483668b50ac3",
   "metadata": {},
   "source": [
    "Step 3"
   ]
  },
  {
   "cell_type": "markdown",
   "id": "bd32ba7d-86d7-4190-96cd-3578baf27f7f",
   "metadata": {},
   "source": [
    "goal:\n",
    "\n",
    "- each byte B looks at every other byte C_i, assigns a weight to it w_i, and compute the weighted average of values\n",
    "- sum(w_i v_i)"
   ]
  },
  {
   "cell_type": "code",
   "execution_count": 112,
   "id": "cbc62c5d-9236-4a53-b692-9db63d0126bd",
   "metadata": {},
   "outputs": [],
   "source": [
    "#compute the value of each byte\n",
    "VAL_DIM = 32\n",
    "\n",
    "l_v = nn.Linear(in_features=EMB_DIM, out_features=VAL_DIM) #values\n",
    "l_k = nn.Linear(in_features=EMB_DIM, out_features=VAL_DIM) #keys\n",
    "l_q = nn.Linear(in_features=EMB_DIM, out_features=VAL_DIM) #queries"
   ]
  },
  {
   "cell_type": "code",
   "execution_count": 110,
   "id": "5b140060-10a9-4f38-b67c-7ae8f050919a",
   "metadata": {},
   "outputs": [
    {
     "data": {
      "text/plain": [
       "torch.Size([1, 10])"
      ]
     },
     "execution_count": 110,
     "metadata": {},
     "output_type": "execute_result"
    }
   ],
   "source": [
    "r_byte.shape"
   ]
  },
  {
   "cell_type": "code",
   "execution_count": 108,
   "id": "8772742d-fe5b-4bb5-9fad-d8a38bfb6d1f",
   "metadata": {},
   "outputs": [
    {
     "data": {
      "text/plain": [
       "torch.Size([1, 10, 16])"
      ]
     },
     "execution_count": 108,
     "metadata": {},
     "output_type": "execute_result"
    }
   ],
   "source": [
    "emb(r_byte).shape"
   ]
  },
  {
   "cell_type": "code",
   "execution_count": 113,
   "id": "ac07b470-f0f6-445e-86b9-f8c29c0060c5",
   "metadata": {},
   "outputs": [
    {
     "data": {
      "text/plain": [
       "torch.Size([1, 10, 32])"
      ]
     },
     "execution_count": 113,
     "metadata": {},
     "output_type": "execute_result"
    }
   ],
   "source": [
    "l_v(emb(r_byte)).shape"
   ]
  },
  {
   "cell_type": "code",
   "execution_count": 115,
   "id": "fae3fafd-88d0-4bbe-8929-bd1686416df4",
   "metadata": {},
   "outputs": [],
   "source": [
    "v = l_v(emb(r_byte)) #value\n",
    "k = l_k(emb(r_byte)) #key\n",
    "q = l_q(emb(r_byte)) #query"
   ]
  },
  {
   "cell_type": "code",
   "execution_count": null,
   "id": "9b75a90e-c425-4498-825c-544b44a6cde7",
   "metadata": {},
   "outputs": [],
   "source": []
  }
 ],
 "metadata": {
  "kernelspec": {
   "display_name": "Python 3 (ipykernel)",
   "language": "python",
   "name": "python3"
  },
  "language_info": {
   "codemirror_mode": {
    "name": "ipython",
    "version": 3
   },
   "file_extension": ".py",
   "mimetype": "text/x-python",
   "name": "python",
   "nbconvert_exporter": "python",
   "pygments_lexer": "ipython3",
   "version": "3.10.13"
  }
 },
 "nbformat": 4,
 "nbformat_minor": 5
}
